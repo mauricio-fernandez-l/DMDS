{
 "cells": [
  {
   "cell_type": "markdown",
   "metadata": {},
   "source": [
    "# Materialmodelle mittels künstliche neuronale Netze\n",
    "\n",
    "Information:\n",
    "* Author: Dr.-Ing. Mauricio Fernández\n",
    "* Zuletzt edited: 2021-12-05\n",
    "\n",
    "Inhaltsverzeichnis\n",
    "* [Daten](#Daten)\n",
    "* [Datengetriebenes Modell](#Datengetriebenes-Modell)\n",
    "    * [Modellarchitektur](#Modellarchitektur)\n",
    "    * [Zielfunktion und Kalibrierung](#Zielfunktion-und-Kalibrierung)\n",
    "    * [Modellauswertung](#Modellauswertung)\n",
    "    * [Weiterführende Literatur](#Weiterführende-Literatur)"
   ]
  },
  {
   "cell_type": "markdown",
   "metadata": {},
   "source": [
    "Benötigte Module"
   ]
  },
  {
   "cell_type": "code",
   "execution_count": 11,
   "metadata": {},
   "outputs": [],
   "source": [
    "import numpy as np\n",
    "import h5py as h5\n",
    "import tensorflow as tf\n",
    "import sys\n",
    "sys.path.append('../files/modules/')\n",
    "import material_model as mm"
   ]
  },
  {
   "cell_type": "markdown",
   "metadata": {},
   "source": [
    "## Daten"
   ]
  },
  {
   "cell_type": "markdown",
   "metadata": {},
   "source": [
    "Lade Daten von [Fritzen, Fernández and Larsson (2019)](https://www.frontiersin.org/articles/10.3389/fmats.2019.00075/full)\n",
    "\n",
    "<img src=\"../files/figures/rve.png\" width=\"400\">"
   ]
  },
  {
   "cell_type": "code",
   "execution_count": 12,
   "metadata": {},
   "outputs": [],
   "source": [
    "data = h5.File('../files/data/data.h5', 'r')\n",
    "strain = data['training']['strain'][:4*9]\n",
    "stress = data['training']['stress_FE'][:4*9]\n",
    "data.close()"
   ]
  },
  {
   "cell_type": "code",
   "execution_count": 13,
   "metadata": {},
   "outputs": [
    {
     "name": "stdout",
     "output_type": "stream",
     "text": [
      "(36, 6)\n",
      "(36, 6)\n"
     ]
    }
   ],
   "source": [
    "print(strain.shape)\n",
    "print(stress.shape)"
   ]
  },
  {
   "cell_type": "markdown",
   "metadata": {},
   "source": [
    "Dehnungs- und Spannungstensoren\n",
    "\n",
    "$$\n",
    "\\varepsilon\n",
    "=\n",
    "\\begin{pmatrix}\n",
    "\\varepsilon_{11} & \\varepsilon_{12} & \\varepsilon_{13} \\\\\n",
    "& \\varepsilon_{22} & \\varepsilon_{23} \\\\\n",
    "& & \\varepsilon_{33} \\\\\n",
    "\\end{pmatrix}\n",
    "\\quad \\rightarrow \\quad\n",
    "\\varepsilon\n",
    "=\n",
    "(\n",
    "\\varepsilon_{11},\n",
    "\\varepsilon_{22},\n",
    "\\varepsilon_{33},\n",
    "\\sqrt{2}\\varepsilon_{12},\n",
    "\\sqrt{2}\\varepsilon_{13},\n",
    "\\sqrt{2}\\varepsilon_{23},\n",
    ")\n",
    "$$\n",
    "\n",
    "$$\n",
    "\\sigma\n",
    "=\n",
    "\\begin{pmatrix}\n",
    "\\sigma_{11} & \\sigma_{12} & \\sigma_{13} \\\\\n",
    "& \\sigma_{22} & \\sigma_{23} \\\\\n",
    "& & \\sigma_{33} \\\\\n",
    "\\end{pmatrix}\n",
    "\\quad \\rightarrow \\quad\n",
    "\\sigma\n",
    "=\n",
    "(\n",
    "\\sigma_{11},\n",
    "\\sigma_{22},\n",
    "\\sigma_{33},\n",
    "\\sqrt{2}\\sigma_{12},\n",
    "\\sqrt{2}\\sigma_{13},\n",
    "\\sqrt{2}\\sigma_{23},\n",
    ")\n",
    "$$"
   ]
  },
  {
   "cell_type": "markdown",
   "metadata": {},
   "source": [
    "Darstellung der 4 Deformationspfade (9 Punkte pro Pfad)."
   ]
  },
  {
   "cell_type": "code",
   "execution_count": 14,
   "metadata": {},
   "outputs": [
    {
     "data": {
      "image/png": "[encoded data removed]",
      "text/plain": [
       "<Figure size 432x288 with 1 Axes>"
      ]
     },
     "metadata": {
      "needs_background": "light"
     },
     "output_type": "display_data"
    }
   ],
   "source": [
    "mm.plot_strain_stress(strain, stress)"
   ]
  },
  {
   "cell_type": "markdown",
   "metadata": {},
   "source": [
    "## Datengetriebenes Modell"
   ]
  },
  {
   "cell_type": "markdown",
   "metadata": {},
   "source": [
    "### Modellarchitektur"
   ]
  },
  {
   "cell_type": "markdown",
   "metadata": {},
   "source": [
    "Netzwerk mit Eingang $x \\in \\mathbb{R}^3$ und Ausgang $f(x) \\in \\mathbb{R}^2$ mit 3 Schichten (2 versteckte Schichten + 1 Ausschicht)\n",
    "\n",
    "<img src=\"../files/figures/ann.png\" width=\"400\" align=\"left\">\n",
    "\n",
    "<img src=\"../files/figures/activation.png\" width=\"350\" align=\"left\">"
   ]
  },
  {
   "cell_type": "markdown",
   "metadata": {},
   "source": [
    "Transformation zu normalisierten Eingang"
   ]
  },
  {
   "cell_type": "code",
   "execution_count": 15,
   "metadata": {},
   "outputs": [],
   "source": [
    "mu = np.mean(strain, 0)\n",
    "sig = np.std(strain, 0)\n",
    "x = (strain - mu)/sig\n",
    "f = stress"
   ]
  },
  {
   "cell_type": "markdown",
   "metadata": {},
   "source": [
    "Digitaler Zwilling: künstliches neuronales Netz (KNN) für Eingang $x \\in \\mathbb{R}^6$ und mit Ausgang $f(x) \\in \\mathbb{R}^6$"
   ]
  },
  {
   "cell_type": "code",
   "execution_count": 16,
   "metadata": {},
   "outputs": [
    {
     "name": "stdout",
     "output_type": "stream",
     "text": [
      "Model: \"sequential_1\"\n",
      "_________________________________________________________________\n",
      "Layer (type)                 Output Shape              Param #   \n",
      "=================================================================\n",
      "dense_3 (Dense)              (None, 8)                 56        \n",
      "_________________________________________________________________\n",
      "dense_4 (Dense)              (None, 8)                 72        \n",
      "_________________________________________________________________\n",
      "dense_5 (Dense)              (None, 6)                 54        \n",
      "=================================================================\n",
      "Total params: 182\n",
      "Trainable params: 182\n",
      "Non-trainable params: 0\n",
      "_________________________________________________________________\n"
     ]
    }
   ],
   "source": [
    "model = tf.keras.Sequential([\n",
    "    tf.keras.layers.Dense(8, 'softplus', input_shape=[6])\n",
    "    ,tf.keras.layers.Dense(8, 'softplus')\n",
    "    ,tf.keras.layers.Dense(6)\n",
    "    ])\n",
    "\n",
    "model.summary()\n",
    "\n",
    "model.compile('adam', 'mse')"
   ]
  },
  {
   "cell_type": "markdown",
   "metadata": {},
   "source": [
    "### Zielfunktion und Kalibrierung"
   ]
  },
  {
   "cell_type": "markdown",
   "metadata": {},
   "source": [
    "Mittlerer quadratischer Fehler (mse = mean squared error) vor der Kalibrierung."
   ]
  },
  {
   "cell_type": "code",
   "execution_count": 17,
   "metadata": {},
   "outputs": [
    {
     "name": "stdout",
     "output_type": "stream",
     "text": [
      "2/2 [==============================] - 0s 0s/step - loss: 10099.4463\n"
     ]
    },
    {
     "data": {
      "text/plain": [
       "10099.4462890625"
      ]
     },
     "execution_count": 17,
     "metadata": {},
     "output_type": "execute_result"
    }
   ],
   "source": [
    "model.evaluate(x, f)"
   ]
  },
  {
   "cell_type": "markdown",
   "metadata": {},
   "source": [
    "Kalibrierung mithilfe gegebener Daten (Minimierung vom mittleren quadratischen Fehler)"
   ]
  },
  {
   "cell_type": "code",
   "execution_count": 18,
   "metadata": {},
   "outputs": [
    {
     "data": {
      "image/png": "[encoded data removed]",
      "text/plain": [
       "<Figure size 432x288 with 1 Axes>"
      ]
     },
     "metadata": {
      "needs_background": "light"
     },
     "output_type": "display_data"
    }
   ],
   "source": [
    "h = model.fit(x, f, epochs=10000, verbose=0)\n",
    "mm.plot_loss(h)"
   ]
  },
  {
   "cell_type": "markdown",
   "metadata": {},
   "source": [
    "Mittlerer quadratischer Fehler nach der Kalibrierung"
   ]
  },
  {
   "cell_type": "code",
   "execution_count": 19,
   "metadata": {},
   "outputs": [
    {
     "name": "stdout",
     "output_type": "stream",
     "text": [
      "1/2 [==============>...............] - ETA: 0s - loss: 124.7355WARNING:tensorflow:Callbacks method `on_test_batch_end` is slow compared to the batch time (batch time: 0.0000s vs `on_test_batch_end` time: 0.0010s). Check your callbacks.\n",
      "2/2 [==============================] - 0s 1ms/step - loss: 115.9299\n"
     ]
    },
    {
     "data": {
      "text/plain": [
       "115.92987823486328"
      ]
     },
     "execution_count": 19,
     "metadata": {},
     "output_type": "execute_result"
    }
   ],
   "source": [
    "model.evaluate(x, f)"
   ]
  },
  {
   "cell_type": "markdown",
   "metadata": {},
   "source": [
    "### Modellauswertung"
   ]
  },
  {
   "cell_type": "markdown",
   "metadata": {},
   "source": [
    "Auswertung vom kalibrierten Model"
   ]
  },
  {
   "cell_type": "code",
   "execution_count": 20,
   "metadata": {},
   "outputs": [
    {
     "data": {
      "image/png": "[encoded data removed]",
      "text/plain": [
       "<Figure size 432x288 with 1 Axes>"
      ]
     },
     "metadata": {
      "needs_background": "light"
     },
     "output_type": "display_data"
    }
   ],
   "source": [
    "stress_model = model.predict((strain - mu)/sig)\n",
    "mm.plot_strain_stress(strain, stress, stress_model)"
   ]
  },
  {
   "cell_type": "markdown",
   "metadata": {},
   "source": [
    "### Weiterführende Literatur"
   ]
  },
  {
   "cell_type": "markdown",
   "metadata": {},
   "source": [
    "Model (digitaler Zwilling der Mikrostruktur) einsetzbar in Bauteilsimulationen für bspw. Formoptimierung.\n",
    "\n",
    "<img src=\"../files/figures/problem.png\" width=\"500\">\n",
    "\n",
    "Fortgeschrittenes Modell mit adaptivem Modelwechsel, siehe [Fritzen, Fernández and Larsson (2019)](https://www.frontiersin.org/articles/10.3389/fmats.2019.00075/full)"
   ]
  },
  {
   "cell_type": "markdown",
   "metadata": {},
   "source": []
  }
 ],
 "metadata": {
  "kernelspec": {
   "display_name": "Python 3",
   "language": "python",
   "name": "python3"
  },
  "language_info": {
   "codemirror_mode": {
    "name": "ipython",
    "version": 3
   },
   "file_extension": ".py",
   "mimetype": "text/x-python",
   "name": "python",
   "nbconvert_exporter": "python",
   "pygments_lexer": "ipython3",
   "version": "3.8.12"
  }
 },
 "nbformat": 4,
 "nbformat_minor": 4
}
